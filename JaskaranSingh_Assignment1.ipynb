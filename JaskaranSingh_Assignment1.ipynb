{
  "nbformat": 4,
  "nbformat_minor": 0,
  "metadata": {
    "colab": {
      "provenance": []
    },
    "kernelspec": {
      "name": "python3",
      "display_name": "Python 3"
    },
    "language_info": {
      "name": "python"
    }
  },
  "cells": [
    {
      "cell_type": "code",
      "execution_count": null,
      "metadata": {
        "id": "rwUFKgyNa4cx"
      },
      "outputs": [],
      "source": [
        "import numpy as np\n",
        "from numpy import random\n",
        "import pandas as pd\n",
        "import matplotlib.pyplot as plt\n",
        "for d in [2,3,4,10,50,100]:\n",
        "  for r in range(1,11):\n",
        "      count=1\n",
        "      points =[]\n",
        "      while count<=d:\n",
        "          points.append(np.random.uniform(0,100,1000))\n",
        "          count=count+1\n",
        "      if d==2:\n",
        "          xt  = np.arange(0,100,r)\n",
        "          yt=np.arange(0,100,r)\n",
        "          plt.figure(figsize=(20,20))\n",
        "          plt.xticks(xt)\n",
        "          plt.yticks(yt)\n",
        "          colors = np.random.rand(1000, 3)\n",
        "          plt.scatter(points[0],points[1],s=1,c=colors)\n",
        "          plt.grid()\n",
        "      A=set()\n",
        "      for i in range(0,1000):\n",
        "          for j in range(0,1000):\n",
        "            if i==j:\n",
        "              continue\n",
        "            else:\n",
        "              sum=0\n",
        "              for k in range(0,d):\n",
        "                  sum = sum+(points[k][i]-points[k][j])**2\n",
        "              sum = np.sqrt(sum)\n",
        "              if sum<=r:\n",
        "                A.add((tuple(row[i] for row in points),tuple(row[j]for row in points)))"
      ]
    }
  ]
}